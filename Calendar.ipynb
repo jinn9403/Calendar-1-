{
  "nbformat": 4,
  "nbformat_minor": 0,
  "metadata": {
    "colab": {
      "provenance": [],
      "authorship_tag": "ABX9TyO+VJ13Evwh7qyD+ZxafDRE",
      "include_colab_link": true
    },
    "kernelspec": {
      "name": "python3",
      "display_name": "Python 3"
    },
    "language_info": {
      "name": "python"
    }
  },
  "cells": [
    {
      "cell_type": "markdown",
      "metadata": {
        "id": "view-in-github",
        "colab_type": "text"
      },
      "source": [
        "<a href=\"https://colab.research.google.com/github/jinn9403/Calendar-1-/blob/main/Calendar.ipynb\" target=\"_parent\"><img src=\"https://colab.research.google.com/assets/colab-badge.svg\" alt=\"Open In Colab\"/></a>"
      ]
    },
    {
      "cell_type": "markdown",
      "source": [
        "달력 만들기 구상\n",
        "1. 윤년확인(calendar.isleap)\n",
        "2. 지나온 날짜 계산(dateutil)\n",
        "3. 마지막 날짜 계산(strptime)\n",
        "4. 요일 계산(datetime)\n"
      ],
      "metadata": {
        "id": "ZaMkGugGPNDx"
      }
    },
    {
      "cell_type": "markdown",
      "source": [
        "날짜 및 요일 계산(datetime)\n",
        "\n",
        "-날짜와 시간 데이터를 처리하는 파이썬 내장 라이브러리\n",
        "\n",
        "-현재 시간을 가져올 수 있고 원하는 형식으로 지정 사용 가능\n",
        "\n",
        "-timedelta 객체를 통해 날짜/시간 연산 가능\n"
      ],
      "metadata": {
        "id": "-M6indgwPuVu"
      }
    },
    {
      "cell_type": "code",
      "execution_count": 1,
      "metadata": {
        "id": "sMRQkSuKPF_R"
      },
      "outputs": [],
      "source": [
        "import datetime\n",
        "day1 = datetime.date(2022, 10, 5)"
      ]
    },
    {
      "cell_type": "code",
      "source": [
        "day1\n",
        "#데이트 타임형 객체 생성"
      ],
      "metadata": {
        "colab": {
          "base_uri": "https://localhost:8080/"
        },
        "id": "K1PUzNppPLoX",
        "outputId": "27ac7a16-347a-40f6-f882-a87562b93633"
      },
      "execution_count": 3,
      "outputs": [
        {
          "output_type": "execute_result",
          "data": {
            "text/plain": [
              "datetime.date(2022, 10, 5)"
            ]
          },
          "metadata": {},
          "execution_count": 3
        }
      ]
    },
    {
      "cell_type": "code",
      "source": [
        "#날짜/시간 표현\n",
        "day2 = datetime.datetime(2022, 10, 15, 16, 10, 30)\n",
        "day2\n",
        "#요소들을 뽑아 낼 수 있는 장점이 있다."
      ],
      "metadata": {
        "colab": {
          "base_uri": "https://localhost:8080/"
        },
        "id": "TNwGdE6UQPrx",
        "outputId": "27fb1098-6bd9-45ec-b57d-8fe427a704ea"
      },
      "execution_count": 9,
      "outputs": [
        {
          "output_type": "execute_result",
          "data": {
            "text/plain": [
              "datetime.datetime(2022, 10, 15, 16, 10, 30)"
            ]
          },
          "metadata": {},
          "execution_count": 9
        }
      ]
    },
    {
      "cell_type": "code",
      "source": [
        "day2.year"
      ],
      "metadata": {
        "colab": {
          "base_uri": "https://localhost:8080/"
        },
        "id": "8u_AWY6kRcMQ",
        "outputId": "43c1b6b8-a5a8-4d28-f8c2-412a2a4c7484"
      },
      "execution_count": 10,
      "outputs": [
        {
          "output_type": "execute_result",
          "data": {
            "text/plain": [
              "2022"
            ]
          },
          "metadata": {},
          "execution_count": 10
        }
      ]
    },
    {
      "cell_type": "code",
      "source": [
        "day2.month"
      ],
      "metadata": {
        "colab": {
          "base_uri": "https://localhost:8080/"
        },
        "id": "yT7H7RlYReeX",
        "outputId": "def51394-a203-4984-e333-641c63d1da59"
      },
      "execution_count": 11,
      "outputs": [
        {
          "output_type": "execute_result",
          "data": {
            "text/plain": [
              "10"
            ]
          },
          "metadata": {},
          "execution_count": 11
        }
      ]
    },
    {
      "cell_type": "code",
      "source": [
        "day2.second"
      ],
      "metadata": {
        "colab": {
          "base_uri": "https://localhost:8080/"
        },
        "id": "GvE6zfQMRgjE",
        "outputId": "4b9efcbe-0b67-49aa-d02c-d78978577dda"
      },
      "execution_count": 12,
      "outputs": [
        {
          "output_type": "execute_result",
          "data": {
            "text/plain": [
              "30"
            ]
          },
          "metadata": {},
          "execution_count": 12
        }
      ]
    },
    {
      "cell_type": "code",
      "source": [
        "#날짜 시간 합치기\n",
        "day = datetime.date(2022, 10, 15)\n",
        "time = datetime.time(16, 10, 30)"
      ],
      "metadata": {
        "id": "4RBxUTEfRiIh"
      },
      "execution_count": 13,
      "outputs": []
    },
    {
      "cell_type": "code",
      "source": [
        "dt = datetime.datetime.combine(day, time)"
      ],
      "metadata": {
        "id": "BRAcgK0uRwnB"
      },
      "execution_count": 14,
      "outputs": []
    },
    {
      "cell_type": "code",
      "source": [
        "dt"
      ],
      "metadata": {
        "colab": {
          "base_uri": "https://localhost:8080/"
        },
        "id": "nLsaB1SGR0vj",
        "outputId": "28b43e38-1bf2-4094-d111-6e57f1c97b40"
      },
      "execution_count": 15,
      "outputs": [
        {
          "output_type": "execute_result",
          "data": {
            "text/plain": [
              "datetime.datetime(2022, 10, 15, 16, 10, 30)"
            ]
          },
          "metadata": {},
          "execution_count": 15
        }
      ]
    },
    {
      "cell_type": "code",
      "source": [
        "#현재 날짜/시간 (today, now)\n",
        "datetime.date.today()"
      ],
      "metadata": {
        "colab": {
          "base_uri": "https://localhost:8080/"
        },
        "id": "qlvhs2TnR1Ty",
        "outputId": "e1dfa39d-1c0e-4575-954d-40d0ccc6c4f0"
      },
      "execution_count": 16,
      "outputs": [
        {
          "output_type": "execute_result",
          "data": {
            "text/plain": [
              "datetime.date(2023, 7, 21)"
            ]
          },
          "metadata": {},
          "execution_count": 16
        }
      ]
    },
    {
      "cell_type": "code",
      "source": [
        "datetime.datetime.now()"
      ],
      "metadata": {
        "colab": {
          "base_uri": "https://localhost:8080/"
        },
        "id": "LOaD7zZjR-S_",
        "outputId": "4a37fb97-e0bc-4eec-8c1d-fb1b19f3c15a"
      },
      "execution_count": 17,
      "outputs": [
        {
          "output_type": "execute_result",
          "data": {
            "text/plain": [
              "datetime.datetime(2023, 7, 21, 16, 28, 32, 920537)"
            ]
          },
          "metadata": {},
          "execution_count": 17
        }
      ]
    },
    {
      "cell_type": "code",
      "source": [
        "#날짜 계산(timedelta)\n",
        "day1 = datetime.date(2022, 10, 15)\n",
        "day2 = datetime.date(2022,11,10)\n",
        "diff = day2- day1\n",
        "diff"
      ],
      "metadata": {
        "colab": {
          "base_uri": "https://localhost:8080/"
        },
        "id": "OoPSKc8ZSAxU",
        "outputId": "91ba88b5-a72e-49ba-d1a6-cf0daad417ff"
      },
      "execution_count": 18,
      "outputs": [
        {
          "output_type": "execute_result",
          "data": {
            "text/plain": [
              "datetime.timedelta(days=26)"
            ]
          },
          "metadata": {},
          "execution_count": 18
        }
      ]
    },
    {
      "cell_type": "code",
      "source": [
        "plus = datetime.timedelta(days = 100)"
      ],
      "metadata": {
        "id": "G4UFzyklSRM0"
      },
      "execution_count": 19,
      "outputs": []
    },
    {
      "cell_type": "code",
      "source": [
        "add = day1 + plus"
      ],
      "metadata": {
        "id": "DxnFxlTkSY8z"
      },
      "execution_count": 20,
      "outputs": []
    },
    {
      "cell_type": "code",
      "source": [
        "#요일 판별 (weekday)\n",
        "#(월요일~일요일 : 0 ~6)"
      ],
      "metadata": {
        "id": "i-h-PF-QSbu4"
      },
      "execution_count": 21,
      "outputs": []
    },
    {
      "cell_type": "code",
      "source": [
        "day1.weekday()"
      ],
      "metadata": {
        "colab": {
          "base_uri": "https://localhost:8080/"
        },
        "id": "4Szm4YxVSgX-",
        "outputId": "aad3f719-ca6b-42ba-c96d-e5776a4aa134"
      },
      "execution_count": 23,
      "outputs": [
        {
          "output_type": "execute_result",
          "data": {
            "text/plain": [
              "5"
            ]
          },
          "metadata": {},
          "execution_count": 23
        }
      ]
    },
    {
      "cell_type": "code",
      "source": [
        "#윤년 확인\n",
        "#4년마다 돌아오는 2월이 29일까지인 해로\n",
        "#((year % 4 == 0 ) and (year % 100 != 0)) or (year % 400 ==0)"
      ],
      "metadata": {
        "id": "24QXWKeMSieh"
      },
      "execution_count": 24,
      "outputs": []
    },
    {
      "cell_type": "code",
      "source": [
        "#윤년 판별 함수(윤년이면 True, 아니면 False)\n",
        "def isLeapYear(year) :\n",
        "  return year % 4 == 0 and year % 100 !=0 or year % 400 == 0"
      ],
      "metadata": {
        "id": "DZ12X34KTU41"
      },
      "execution_count": 26,
      "outputs": []
    },
    {
      "cell_type": "code",
      "source": [
        "isLeapYear(2024)"
      ],
      "metadata": {
        "colab": {
          "base_uri": "https://localhost:8080/"
        },
        "id": "PF_UXPVUTvYx",
        "outputId": "bd81cb5f-0e73-4d1c-95c3-6242376dba1b"
      },
      "execution_count": 27,
      "outputs": [
        {
          "output_type": "execute_result",
          "data": {
            "text/plain": [
              "True"
            ]
          },
          "metadata": {},
          "execution_count": 27
        }
      ]
    },
    {
      "cell_type": "code",
      "source": [
        "#달력 관련 라이브러리(calendar)\n",
        "import calendar"
      ],
      "metadata": {
        "id": "h9eF_EY-T6JD"
      },
      "execution_count": 30,
      "outputs": []
    },
    {
      "cell_type": "code",
      "source": [
        "calendar.isleap(2022)\n"
      ],
      "metadata": {
        "colab": {
          "base_uri": "https://localhost:8080/"
        },
        "id": "x5CkqJpCUAXs",
        "outputId": "e7cb07a9-fe87-43fe-b95e-5f150c0885a7"
      },
      "execution_count": 32,
      "outputs": [
        {
          "output_type": "execute_result",
          "data": {
            "text/plain": [
              "False"
            ]
          },
          "metadata": {},
          "execution_count": 32
        }
      ]
    },
    {
      "cell_type": "code",
      "source": [
        "calendar.isleap(2024)"
      ],
      "metadata": {
        "colab": {
          "base_uri": "https://localhost:8080/"
        },
        "id": "QOsjIWujUIWF",
        "outputId": "0ba1cabf-4e9f-425d-ebb3-cc9249b22a23"
      },
      "execution_count": 33,
      "outputs": [
        {
          "output_type": "execute_result",
          "data": {
            "text/plain": [
              "True"
            ]
          },
          "metadata": {},
          "execution_count": 33
        }
      ]
    },
    {
      "cell_type": "code",
      "source": [
        "#윤년의 횟수\n",
        "calendar.leapdays(1990, 2024)"
      ],
      "metadata": {
        "colab": {
          "base_uri": "https://localhost:8080/"
        },
        "id": "-e0qgQwxUN7Z",
        "outputId": "56d3a994-5c8b-4567-a907-40287ecf99ab"
      },
      "execution_count": 34,
      "outputs": [
        {
          "output_type": "execute_result",
          "data": {
            "text/plain": [
              "8"
            ]
          },
          "metadata": {},
          "execution_count": 34
        }
      ]
    },
    {
      "cell_type": "code",
      "source": [
        "#요일 반환 및 출력\n",
        "calendar.weekday(2022,10, 15)"
      ],
      "metadata": {
        "colab": {
          "base_uri": "https://localhost:8080/"
        },
        "id": "6qWrN2baUUmh",
        "outputId": "6c366c82-f7fc-4d56-fd00-254e19557573"
      },
      "execution_count": 35,
      "outputs": [
        {
          "output_type": "execute_result",
          "data": {
            "text/plain": [
              "5"
            ]
          },
          "metadata": {},
          "execution_count": 35
        }
      ]
    },
    {
      "cell_type": "code",
      "source": [
        "print(calendar.calendar(2022, 2))"
      ],
      "metadata": {
        "colab": {
          "base_uri": "https://localhost:8080/"
        },
        "id": "Kl4tdfsMUbOi",
        "outputId": "e2eda182-a395-41a3-c65c-b7445ebc4541"
      },
      "execution_count": 41,
      "outputs": [
        {
          "output_type": "stream",
          "name": "stdout",
          "text": [
            "                                  2022\n",
            "\n",
            "      January                   February                   March\n",
            "Mo Tu We Th Fr Sa Su      Mo Tu We Th Fr Sa Su      Mo Tu We Th Fr Sa Su\n",
            "                1  2          1  2  3  4  5  6          1  2  3  4  5  6\n",
            " 3  4  5  6  7  8  9       7  8  9 10 11 12 13       7  8  9 10 11 12 13\n",
            "10 11 12 13 14 15 16      14 15 16 17 18 19 20      14 15 16 17 18 19 20\n",
            "17 18 19 20 21 22 23      21 22 23 24 25 26 27      21 22 23 24 25 26 27\n",
            "24 25 26 27 28 29 30      28                        28 29 30 31\n",
            "31\n",
            "\n",
            "       April                      May                       June\n",
            "Mo Tu We Th Fr Sa Su      Mo Tu We Th Fr Sa Su      Mo Tu We Th Fr Sa Su\n",
            "             1  2  3                         1             1  2  3  4  5\n",
            " 4  5  6  7  8  9 10       2  3  4  5  6  7  8       6  7  8  9 10 11 12\n",
            "11 12 13 14 15 16 17       9 10 11 12 13 14 15      13 14 15 16 17 18 19\n",
            "18 19 20 21 22 23 24      16 17 18 19 20 21 22      20 21 22 23 24 25 26\n",
            "25 26 27 28 29 30         23 24 25 26 27 28 29      27 28 29 30\n",
            "                          30 31\n",
            "\n",
            "        July                     August                  September\n",
            "Mo Tu We Th Fr Sa Su      Mo Tu We Th Fr Sa Su      Mo Tu We Th Fr Sa Su\n",
            "             1  2  3       1  2  3  4  5  6  7                1  2  3  4\n",
            " 4  5  6  7  8  9 10       8  9 10 11 12 13 14       5  6  7  8  9 10 11\n",
            "11 12 13 14 15 16 17      15 16 17 18 19 20 21      12 13 14 15 16 17 18\n",
            "18 19 20 21 22 23 24      22 23 24 25 26 27 28      19 20 21 22 23 24 25\n",
            "25 26 27 28 29 30 31      29 30 31                  26 27 28 29 30\n",
            "\n",
            "      October                   November                  December\n",
            "Mo Tu We Th Fr Sa Su      Mo Tu We Th Fr Sa Su      Mo Tu We Th Fr Sa Su\n",
            "                1  2          1  2  3  4  5  6                1  2  3  4\n",
            " 3  4  5  6  7  8  9       7  8  9 10 11 12 13       5  6  7  8  9 10 11\n",
            "10 11 12 13 14 15 16      14 15 16 17 18 19 20      12 13 14 15 16 17 18\n",
            "17 18 19 20 21 22 23      21 22 23 24 25 26 27      19 20 21 22 23 24 25\n",
            "24 25 26 27 28 29 30      28 29 30                  26 27 28 29 30 31\n",
            "31\n",
            "\n"
          ]
        }
      ]
    },
    {
      "cell_type": "code",
      "source": [
        "#날짜출력(strptime : 날짜 형식 문자열을 datetime 객체로 변환, strftime : 날짜와 시간을 문자열로 출력)"
      ],
      "metadata": {
        "id": "o5Fkcw8bUdtB"
      },
      "execution_count": 42,
      "outputs": []
    },
    {
      "cell_type": "code",
      "source": [
        "import datetime\n",
        "#strptime\n",
        "#연월일시초 => %Y, m ,d, H, M, S\n",
        "str_datetime = '2021-04-08 21:22:34'"
      ],
      "metadata": {
        "id": "mQtvQKf-VJNb"
      },
      "execution_count": 53,
      "outputs": []
    },
    {
      "cell_type": "code",
      "source": [
        "currdate = datetime.datetime.strptime(str_datetime, '%Y-%m-%d %H:%M:%S' )"
      ],
      "metadata": {
        "id": "4Pbnh2KzVml2"
      },
      "execution_count": 54,
      "outputs": []
    },
    {
      "cell_type": "code",
      "source": [
        "currdate"
      ],
      "metadata": {
        "colab": {
          "base_uri": "https://localhost:8080/"
        },
        "id": "9qTYxN63WbWz",
        "outputId": "b81d506e-4e2b-4cfa-e0f9-22a2e3831076"
      },
      "execution_count": 55,
      "outputs": [
        {
          "output_type": "execute_result",
          "data": {
            "text/plain": [
              "datetime.datetime(2021, 4, 8, 21, 22, 34)"
            ]
          },
          "metadata": {},
          "execution_count": 55
        }
      ]
    },
    {
      "cell_type": "code",
      "source": [
        "#strftime 데이터 타임의 객체를 문자열로 바꾸어 줄 때 사용\n",
        "now = datetime.datetime.now()"
      ],
      "metadata": {
        "id": "_A-OKlmqYdGE"
      },
      "execution_count": 57,
      "outputs": []
    },
    {
      "cell_type": "code",
      "source": [
        "now"
      ],
      "metadata": {
        "colab": {
          "base_uri": "https://localhost:8080/"
        },
        "id": "SkX4yvKaY4r6",
        "outputId": "428beaec-7ccd-47dd-d0f7-36a4ef7d88ac"
      },
      "execution_count": 58,
      "outputs": [
        {
          "output_type": "execute_result",
          "data": {
            "text/plain": [
              "datetime.datetime(2023, 7, 21, 16, 58, 59, 820342)"
            ]
          },
          "metadata": {},
          "execution_count": 58
        }
      ]
    },
    {
      "cell_type": "code",
      "source": [
        "date = now.strftime('%Y-%m`%d')\n",
        "type(date)"
      ],
      "metadata": {
        "colab": {
          "base_uri": "https://localhost:8080/"
        },
        "id": "h5bXkexzZAHT",
        "outputId": "e0fbf13d-ac3f-48ae-e6fb-6f904e27ae67"
      },
      "execution_count": 59,
      "outputs": [
        {
          "output_type": "execute_result",
          "data": {
            "text/plain": [
              "str"
            ]
          },
          "metadata": {},
          "execution_count": 59
        }
      ]
    },
    {
      "cell_type": "code",
      "source": [
        "date"
      ],
      "metadata": {
        "colab": {
          "base_uri": "https://localhost:8080/",
          "height": 36
        },
        "id": "T5RX8oiPZOSA",
        "outputId": "8505686b-6670-4dfa-caed-387d2447cec8"
      },
      "execution_count": 60,
      "outputs": [
        {
          "output_type": "execute_result",
          "data": {
            "text/plain": [
              "'2023-07`21'"
            ],
            "application/vnd.google.colaboratory.intrinsic+json": {
              "type": "string"
            }
          },
          "metadata": {},
          "execution_count": 60
        }
      ]
    },
    {
      "cell_type": "code",
      "source": [
        "#time과 datetime 역시 구현 가능"
      ],
      "metadata": {
        "id": "1ng2ByslZQph"
      },
      "execution_count": 61,
      "outputs": []
    },
    {
      "cell_type": "code",
      "source": [
        "#그 외 시간관련 dateutil, time"
      ],
      "metadata": {
        "id": "LphMHu2XZlLG"
      },
      "execution_count": 62,
      "outputs": []
    },
    {
      "cell_type": "markdown",
      "source": [
        "date  = parse 함수를 통해 자동으로 날짜 형식을 찾아서 datetime 객체로 변환됨"
      ],
      "metadata": {
        "id": "YSJrpsRoZ147"
      }
    },
    {
      "cell_type": "code",
      "source": [
        "import datetime"
      ],
      "metadata": {
        "id": "4ysodZqIZoxx"
      },
      "execution_count": 63,
      "outputs": []
    },
    {
      "cell_type": "code",
      "source": [
        "date = '2022-10-15'\n",
        "date_parsed = datetime.datetime. strptime(date, '%Y-%m-%d')\n",
        "date_parsed"
      ],
      "metadata": {
        "colab": {
          "base_uri": "https://localhost:8080/"
        },
        "id": "Fbmg5QfKaO_j",
        "outputId": "f84ae4d7-01c6-46ca-9dca-0892b58c79d5"
      },
      "execution_count": 66,
      "outputs": [
        {
          "output_type": "execute_result",
          "data": {
            "text/plain": [
              "datetime.datetime(2022, 10, 15, 0, 0)"
            ]
          },
          "metadata": {},
          "execution_count": 66
        }
      ]
    },
    {
      "cell_type": "code",
      "source": [
        "from dateutil.parser import parse"
      ],
      "metadata": {
        "id": "XJASdrREanKR"
      },
      "execution_count": 69,
      "outputs": []
    },
    {
      "cell_type": "code",
      "source": [
        "#dateutil 활용\n",
        "parse(date)\n"
      ],
      "metadata": {
        "colab": {
          "base_uri": "https://localhost:8080/"
        },
        "id": "UfMFTOj9aymw",
        "outputId": "6201156d-f1d5-4e44-eab1-44cf46f4ec6c"
      },
      "execution_count": 72,
      "outputs": [
        {
          "output_type": "execute_result",
          "data": {
            "text/plain": [
              "datetime.datetime(2022, 10, 15, 0, 0)"
            ]
          },
          "metadata": {},
          "execution_count": 72
        }
      ]
    },
    {
      "cell_type": "code",
      "source": [
        "#자동으로 판단해서 보내준다\n",
        "parse(\"Oct 15, 2022 : 05 : 32 PM\")\n",
        "log = 'INFO 2022-01-01 T000:00:01 Happy new year, human'"
      ],
      "metadata": {
        "id": "KAMHhvF6a35h"
      },
      "execution_count": 71,
      "outputs": []
    },
    {
      "cell_type": "code",
      "source": [
        "parse(log,fuzzy = True)"
      ],
      "metadata": {
        "colab": {
          "base_uri": "https://localhost:8080/"
        },
        "id": "L5Jpl-uIbUPv",
        "outputId": "4f980a4a-f1bb-45be-f38c-e77c76507f3d"
      },
      "execution_count": 75,
      "outputs": [
        {
          "output_type": "execute_result",
          "data": {
            "text/plain": [
              "datetime.datetime(2022, 1, 1, 0, 0, 1)"
            ]
          },
          "metadata": {},
          "execution_count": 75
        }
      ]
    },
    {
      "cell_type": "markdown",
      "source": [
        "Test\n",
        "\n",
        "-프로그램 경과시간, 프로글그램 대기 시간 등을 만들때 주로 사요야ㅡㅔㅐㄱㅅ ㅅ"
      ],
      "metadata": {
        "id": "UQDeMu2_cOQc"
      }
    },
    {
      "cell_type": "code",
      "source": [
        "#현재시간 출력(실수형\n",
        "import time\n",
        "time.time()"
      ],
      "metadata": {
        "colab": {
          "base_uri": "https://localhost:8080/"
        },
        "id": "kCHHi9m5biSH",
        "outputId": "2c7c869a-801e-4f84-a851-a0a6271a2d74"
      },
      "execution_count": 76,
      "outputs": [
        {
          "output_type": "execute_result",
          "data": {
            "text/plain": [
              "1689959695.6349099"
            ]
          },
          "metadata": {},
          "execution_count": 76
        }
      ]
    },
    {
      "cell_type": "code",
      "source": [
        "#현재시간 출력(문자형)\n",
        "time.ctime()"
      ],
      "metadata": {
        "colab": {
          "base_uri": "https://localhost:8080/",
          "height": 36
        },
        "id": "uaPioDm2coIo",
        "outputId": "c8d97ef7-80bb-429a-fc48-8adfbb1be0c8"
      },
      "execution_count": 78,
      "outputs": [
        {
          "output_type": "execute_result",
          "data": {
            "text/plain": [
              "'Fri Jul 21 17:16:17 2023'"
            ],
            "application/vnd.google.colaboratory.intrinsic+json": {
              "type": "string"
            }
          },
          "metadata": {},
          "execution_count": 78
        }
      ]
    },
    {
      "cell_type": "code",
      "source": [
        "#대기 시간 생성\n",
        "print('바로 출력')\n",
        "\n",
        "time.sleep(3)\n",
        "\n",
        "print('3초가 출력되는 구문')"
      ],
      "metadata": {
        "colab": {
          "base_uri": "https://localhost:8080/"
        },
        "id": "ouTlctSgc4iz",
        "outputId": "4ccd21cb-c0bc-4b5c-8cf8-4aee9bfdcdb7"
      },
      "execution_count": 80,
      "outputs": [
        {
          "output_type": "stream",
          "name": "stdout",
          "text": [
            "바로 출력\n",
            "3초가 출력되는 구문\n"
          ]
        }
      ]
    },
    {
      "cell_type": "code",
      "source": [
        "#경과시간 출력\n",
        "start_time = time.time()\n",
        "\n",
        "for i in range(5):\n",
        "    time.sleep(1) #1초간 대기\n",
        "    print('반복 횟수', i+1)\n",
        "\n",
        "end_time = time.time()\n",
        "elapsed_time = end_time -start_time\n",
        "\n",
        "print('경과된 시간 : { }초 입니다', format(elapsed_time))"
      ],
      "metadata": {
        "colab": {
          "base_uri": "https://localhost:8080/"
        },
        "id": "MKtGXC0mdIk-",
        "outputId": "03f73cf8-3511-4542-c818-9cf79c074425"
      },
      "execution_count": 84,
      "outputs": [
        {
          "output_type": "stream",
          "name": "stdout",
          "text": [
            "반복 횟수 1\n",
            "반복 횟수 2\n",
            "반복 횟수 3\n",
            "반복 횟수 4\n",
            "반복 횟수 5\n",
            "경과된 시간 : { }초 입니다 5.00534200668335\n"
          ]
        }
      ]
    },
    {
      "cell_type": "code",
      "source": [],
      "metadata": {
        "id": "5wVlOVyXd4SM"
      },
      "execution_count": null,
      "outputs": []
    }
  ]
}